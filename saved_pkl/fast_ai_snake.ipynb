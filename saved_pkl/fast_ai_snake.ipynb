{
 "cells": [
  {
   "cell_type": "code",
   "execution_count": 3,
   "id": "bbf2bc40",
   "metadata": {},
   "outputs": [],
   "source": [
    "! pip install -Uqq fastbook\n",
    "import fastbook\n",
    "fastbook.setup_book()\n",
    "from fastai.vision.all import *\n",
    "from fastbook import *\n",
    "! pip install -q jmd_imagescraper\n",
    "# these have the functionality to scrap images\n",
    "from jmd_imagescraper.core import *\n",
    "# to instantiate a concrete path\n",
    "from pathlib import Path\n",
    "#Using the image cleaner within the notebook to clean up the dataset and delete unsuitable images.\n",
    "from jmd_imagescraper.imagecleaner import *"
   ]
  },
  {
   "cell_type": "code",
   "execution_count": 18,
   "id": "dcf5126d",
   "metadata": {},
   "outputs": [],
   "source": [
    "# ! pip install pyqtwebengine pyqt5==5.12.3 spyder"
   ]
  },
  {
   "cell_type": "code",
   "execution_count": 25,
   "id": "8d5daba9",
   "metadata": {},
   "outputs": [],
   "source": [
    "snake_types = [\"Northern Watersnake\",\"Western Diamondback rattlesnake\"]\n",
    "\n",
    "# assisgn to the current working directory\n",
    "path = Path().cwd()/\"snake_types\""
   ]
  },
  {
   "cell_type": "code",
   "execution_count": 21,
   "id": "3d33f35f",
   "metadata": {},
   "outputs": [
    {
     "data": {
      "text/plain": [
       "Path('C:/Users/Hanh/Downloads/F21/Rizk DS/snake classification/snake_types')"
      ]
     },
     "execution_count": 21,
     "metadata": {},
     "output_type": "execute_result"
    }
   ],
   "source": [
    "path "
   ]
  },
  {
   "cell_type": "code",
   "execution_count": 19,
   "id": "5acf2214",
   "metadata": {},
   "outputs": [],
   "source": [
    "# It gets the path, name of the directory, name to be searched and size\n",
    "#duckduckgo_search(path, \"plain bellied water\",\"plain bellied water snake Nerodia erythrogaster\", max_results=500)\n",
    "#duckduckgo_search(path, \"northern cottonmouth\",\"northern cottonmouth\", max_results=500)"
   ]
  },
  {
   "cell_type": "code",
   "execution_count": null,
   "id": "26626a02",
   "metadata": {},
   "outputs": [],
   "source": [
    "#display_image_cleaner(\"C:/Users/Hanh/Downloads/F21/Rizk DS/snake classification/snake_types\")"
   ]
  },
  {
   "cell_type": "code",
   "execution_count": 26,
   "id": "e8e0a4dd",
   "metadata": {},
   "outputs": [],
   "source": [
    "snake_types = DataBlock(\n",
    "    blocks = (ImageBlock, CategoryBlock),\n",
    "    get_items = get_image_files,\n",
    "    splitter = RandomSplitter(valid_pct=0.3, seed=42),\n",
    "    get_y = parent_label,\n",
    "    item_tfms = RandomResizedCrop(224, min_scale=0.5),\n",
    "    batch_tfms = aug_transforms()\n",
    ")\n"
   ]
  },
  {
   "cell_type": "code",
   "execution_count": 27,
   "id": "f9511dab",
   "metadata": {},
   "outputs": [
    {
     "name": "stdout",
     "output_type": "stream",
     "text": [
      "Due to IPython and Windows limitation, python multiprocessing isn't available now.\n",
      "So `number_workers` is changed to 0 to avoid getting stuck\n"
     ]
    }
   ],
   "source": [
    "dls = snake_types.dataloaders('./snake_types')"
   ]
  },
  {
   "cell_type": "code",
   "execution_count": 29,
   "id": "74aeb98a",
   "metadata": {},
   "outputs": [
    {
     "data": {
      "text/html": [
       "<table border=\"1\" class=\"dataframe\">\n",
       "  <thead>\n",
       "    <tr style=\"text-align: left;\">\n",
       "      <th>epoch</th>\n",
       "      <th>train_loss</th>\n",
       "      <th>valid_loss</th>\n",
       "      <th>accuracy</th>\n",
       "      <th>time</th>\n",
       "    </tr>\n",
       "  </thead>\n",
       "  <tbody>\n",
       "    <tr>\n",
       "      <td>0</td>\n",
       "      <td>0.576644</td>\n",
       "      <td>0.198932</td>\n",
       "      <td>0.944056</td>\n",
       "      <td>03:43</td>\n",
       "    </tr>\n",
       "  </tbody>\n",
       "</table>"
      ],
      "text/plain": [
       "<IPython.core.display.HTML object>"
      ]
     },
     "metadata": {},
     "output_type": "display_data"
    },
    {
     "data": {
      "text/html": [
       "<table border=\"1\" class=\"dataframe\">\n",
       "  <thead>\n",
       "    <tr style=\"text-align: left;\">\n",
       "      <th>epoch</th>\n",
       "      <th>train_loss</th>\n",
       "      <th>valid_loss</th>\n",
       "      <th>accuracy</th>\n",
       "      <th>time</th>\n",
       "    </tr>\n",
       "  </thead>\n",
       "  <tbody>\n",
       "    <tr>\n",
       "      <td>0</td>\n",
       "      <td>0.352846</td>\n",
       "      <td>0.142450</td>\n",
       "      <td>0.949650</td>\n",
       "      <td>04:37</td>\n",
       "    </tr>\n",
       "    <tr>\n",
       "      <td>1</td>\n",
       "      <td>0.289832</td>\n",
       "      <td>0.140716</td>\n",
       "      <td>0.956643</td>\n",
       "      <td>04:40</td>\n",
       "    </tr>\n",
       "    <tr>\n",
       "      <td>2</td>\n",
       "      <td>0.224014</td>\n",
       "      <td>0.162012</td>\n",
       "      <td>0.941259</td>\n",
       "      <td>04:53</td>\n",
       "    </tr>\n",
       "    <tr>\n",
       "      <td>3</td>\n",
       "      <td>0.182962</td>\n",
       "      <td>0.137392</td>\n",
       "      <td>0.953846</td>\n",
       "      <td>04:59</td>\n",
       "    </tr>\n",
       "    <tr>\n",
       "      <td>4</td>\n",
       "      <td>0.153168</td>\n",
       "      <td>0.165288</td>\n",
       "      <td>0.958042</td>\n",
       "      <td>04:48</td>\n",
       "    </tr>\n",
       "    <tr>\n",
       "      <td>5</td>\n",
       "      <td>0.127767</td>\n",
       "      <td>0.139706</td>\n",
       "      <td>0.966434</td>\n",
       "      <td>04:53</td>\n",
       "    </tr>\n",
       "    <tr>\n",
       "      <td>6</td>\n",
       "      <td>0.113732</td>\n",
       "      <td>0.134214</td>\n",
       "      <td>0.962238</td>\n",
       "      <td>04:45</td>\n",
       "    </tr>\n",
       "    <tr>\n",
       "      <td>7</td>\n",
       "      <td>0.090257</td>\n",
       "      <td>0.125970</td>\n",
       "      <td>0.963636</td>\n",
       "      <td>04:30</td>\n",
       "    </tr>\n",
       "    <tr>\n",
       "      <td>8</td>\n",
       "      <td>0.069801</td>\n",
       "      <td>0.114795</td>\n",
       "      <td>0.970629</td>\n",
       "      <td>04:33</td>\n",
       "    </tr>\n",
       "    <tr>\n",
       "      <td>9</td>\n",
       "      <td>0.062210</td>\n",
       "      <td>0.113039</td>\n",
       "      <td>0.972028</td>\n",
       "      <td>04:38</td>\n",
       "    </tr>\n",
       "    <tr>\n",
       "      <td>10</td>\n",
       "      <td>0.050840</td>\n",
       "      <td>0.120209</td>\n",
       "      <td>0.970629</td>\n",
       "      <td>04:31</td>\n",
       "    </tr>\n",
       "    <tr>\n",
       "      <td>11</td>\n",
       "      <td>0.041159</td>\n",
       "      <td>0.116754</td>\n",
       "      <td>0.970629</td>\n",
       "      <td>04:38</td>\n",
       "    </tr>\n",
       "  </tbody>\n",
       "</table>"
      ],
      "text/plain": [
       "<IPython.core.display.HTML object>"
      ]
     },
     "metadata": {},
     "output_type": "display_data"
    }
   ],
   "source": [
    "learn = cnn_learner(dls, resnet18, metrics=[accuracy])\n",
    "learn.fine_tune(12)"
   ]
  },
  {
   "cell_type": "code",
   "execution_count": 33,
   "id": "8e135ecc",
   "metadata": {},
   "outputs": [
    {
     "data": {
      "text/html": [],
      "text/plain": [
       "<IPython.core.display.HTML object>"
      ]
     },
     "metadata": {},
     "output_type": "display_data"
    },
    {
     "data": {
      "image/png": "[encoded data removed]",
      "text/plain": [
       "<Figure size 432x288 with 1 Axes>"
      ]
     },
     "metadata": {
      "needs_background": "light"
     },
     "output_type": "display_data"
    }
   ],
   "source": [
    "interp = ClassificationInterpretation.from_learner(learn)\n",
    "interp.plot_confusion_matrix()"
   ]
  },
  {
   "cell_type": "code",
   "execution_count": 32,
   "id": "cd49a392",
   "metadata": {},
   "outputs": [],
   "source": [
    "learn.path = Path('./saved_pkl')\n",
    "learn.export(\"snake.pkl\")"
   ]
  },
  {
   "cell_type": "code",
   "execution_count": 34,
   "id": "84efaa99",
   "metadata": {},
   "outputs": [
    {
     "data": {
      "text/plain": [
       "<fastai.interpret.ClassificationInterpretation at 0x22c81de9df0>"
      ]
     },
     "execution_count": 34,
     "metadata": {},
     "output_type": "execute_result"
    }
   ],
   "source": [
    "interp"
   ]
  },
  {
   "cell_type": "code",
   "execution_count": 35,
   "id": "5046312b",
   "metadata": {},
   "outputs": [
    {
     "data": {
      "text/html": [],
      "text/plain": [
       "<IPython.core.display.HTML object>"
      ]
     },
     "metadata": {},
     "output_type": "display_data"
    },
    {
     "data": {
      "image/png": "[encoded data removed]",
      "text/plain": [
       "<Figure size 720x720 with 1 Axes>"
      ]
     },
     "metadata": {
      "needs_background": "light"
     },
     "output_type": "display_data"
    }
   ],
   "source": [
    "interp = ClassificationInterpretation.from_learner(learn)\n",
    "interp.plot_confusion_matrix(figsize=(12,12), dpi=60)"
   ]
  },
  {
   "cell_type": "code",
   "execution_count": null,
   "id": "587e4bf5",
   "metadata": {},
   "outputs": [],
   "source": []
  }
 ],
 "metadata": {
  "kernelspec": {
   "display_name": "Python 3 (ipykernel)",
   "language": "python",
   "name": "python3"
  },
  "language_info": {
   "codemirror_mode": {
    "name": "ipython",
    "version": 3
   },
   "file_extension": ".py",
   "mimetype": "text/x-python",
   "name": "python",
   "nbconvert_exporter": "python",
   "pygments_lexer": "ipython3",
   "version": "3.8.8"
  }
 },
 "nbformat": 4,
 "nbformat_minor": 5
}
